{
 "cells": [
  {
   "cell_type": "markdown",
   "id": "95952cac",
   "metadata": {},
   "source": [
    "# ADS 509 Module 1: APIs and Web Scraping\n",
    "## Halee Staggs\n",
    "### Disclaimer: ChatGPT4 was used as a tool to assist with this assignment. I used the HTML source code from the azlyrics website, along with the comment prompts for the desired output, to create most of the code for this assignment. Some of the code produced by ChatGPT4 had a few errors and I trouble-shooted them to ensure the output was accurate and reliable. The code produced by ChatGPT4 is labeled in the code block comments."
   ]
  },
  {
   "cell_type": "markdown",
   "id": "91c8969e",
   "metadata": {},
   "source": [
    "# Importing Libraries"
   ]
  },
  {
   "cell_type": "code",
   "execution_count": 1,
   "id": "185076b0",
   "metadata": {},
   "outputs": [],
   "source": [
    "import os\n",
    "import datetime\n",
    "import re\n",
    "\n",
    "# for the lyrics scrape section\n",
    "import requests\n",
    "import time\n",
    "from bs4 import BeautifulSoup\n",
    "from collections import defaultdict, Counter\n",
    "import random"
   ]
  },
  {
   "cell_type": "code",
   "execution_count": 15,
   "id": "a47e2d5f",
   "metadata": {},
   "outputs": [],
   "source": [
    "# Use this cell for any import statements you add\n",
    "import shutil"
   ]
  },
  {
   "cell_type": "markdown",
   "id": "45c13af3",
   "metadata": {},
   "source": [
    "---\n",
    "\n",
    "# Lyrics Scrape\n",
    "\n",
    "This section asks you to pull data by scraping www.AZLyrics.com. In the notebooks where you do that work you are asked to store the data in specific ways. "
   ]
  },
  {
   "cell_type": "code",
   "execution_count": 5,
   "id": "5bd7df77",
   "metadata": {},
   "outputs": [],
   "source": [
    "# Define artist name, and URL for artist with correct alphabetical folder \n",
    "artists = {'chappell':\"https://www.azlyrics.com/c/chappellroan.html\",\n",
    "           'nav':\"https://www.azlyrics.com/n/nav.html\"} \n",
    "# we'll use this dictionary to hold both the artist name and the link on AZlyrics"
   ]
  },
  {
   "cell_type": "code",
   "execution_count": 6,
   "id": "b127efa7",
   "metadata": {},
   "outputs": [
    {
     "data": {
      "text/plain": [
       "dict_items([('chappell', 'https://www.azlyrics.com/c/chappellroan.html'), ('nav', 'https://www.azlyrics.com/n/nav.html')])"
      ]
     },
     "execution_count": 6,
     "metadata": {},
     "output_type": "execute_result"
    }
   ],
   "source": [
    "# Confirm dictionary\n",
    "artists.items()"
   ]
  },
  {
   "cell_type": "markdown",
   "id": "c236c99b",
   "metadata": {},
   "source": [
    "## Part 1: Finding Links to Songs Lyrics\n",
    "\n",
    "Q: Take a look at the `robots.txt` page on www.azlyrics.com. (You can read more about these pages [here](https://developers.google.com/search/docs/advanced/robots/intro).) Is the scraping we are about to do allowed or disallowed by this page? How do you know? \n",
    "\n",
    "A: The approved web scraping features can be verified by looking at the robots.txt file. The file can be viewed by adding the \"/robots.txt\" destination at the end of a websites main url. The only disallowed attributes are calling the entire lyrics database or a song, so just scraping for indiviual artists or anything else is allowed by all user agent types. Except for user agent type 008, which is not allowed to scrape anything.\n",
    "* www.azlyrics.com/robots.txt\n",
    "* User-agent: *\n",
    "* Disallow: /lyricsdb/\n",
    "* Disallow: /song/\n",
    "* Allow: /\n",
    "\n",
    "* User-agent: 008\n",
    "* Disallow: /\n"
   ]
  },
  {
   "cell_type": "code",
   "execution_count": 9,
   "id": "78e47045",
   "metadata": {},
   "outputs": [
    {
     "name": "stdout",
     "output_type": "stream",
     "text": [
      "defaultdict(<class 'list'>, {'chappell': ['https://www.azlyrics.com/lyrics/chappellroan/dieyoung.html', 'https://www.azlyrics.com/lyrics/chappellroan/goodhurt.html', 'https://www.azlyrics.com/lyrics/chappellroan/meantime.html', 'https://www.azlyrics.com/lyrics/chappellroan/sugarhigh.html', 'https://www.azlyrics.com/lyrics/chappellroan/badforyou.html', 'https://www.azlyrics.com/lyrics/chappellroan/femininomenon.html', 'https://www.azlyrics.com/lyrics/chappellroan/redwinesupernova.html', 'https://www.azlyrics.com/lyrics/chappellroan/aftermidnight.html', 'https://www.azlyrics.com/lyrics/chappellroan/coffee.html', 'https://www.azlyrics.com/lyrics/chappellroan/casual.html', 'https://www.azlyrics.com/lyrics/chappellroan/supergraphicultramoderngirl.html', 'https://www.azlyrics.com/lyrics/chappellroan/hottogo.html', 'https://www.azlyrics.com/lyrics/chappellroan/mykinkiskarma.html', 'https://www.azlyrics.com/lyrics/chappellroan/pictureyou.html', 'https://www.azlyrics.com/lyrics/chappellroan/kaleidoscope.html', 'https://www.azlyrics.com/lyrics/chappellroan/pinkponyclub.html', 'https://www.azlyrics.com/lyrics/chappellroan/nakedinmanhattan.html', 'https://www.azlyrics.com/lyrics/chappellroan/california.html', 'https://www.azlyrics.com/lyrics/chappellroan/guiltypleasure.html', 'https://www.azlyrics.com/lyrics/chappellroan/bitter.html', 'https://www.azlyrics.com/lyrics/chappellroan/craveyou.html', 'https://www.azlyrics.com/lyrics/chappellroan/goodluckbabe.html', 'https://www.azlyrics.com/lyrics/chappellroan/lovemeanyway.html', 'https://www.azlyrics.com/lyrics/chappellroan/schoolnights.html'], 'nav': ['https://www.azlyrics.com/lyrics/nav/nothinonyou.html', 'https://www.azlyrics.com/lyrics/nav/makeyourmindup.html', 'https://www.azlyrics.com/lyrics/nav/mission.html', 'https://www.azlyrics.com/lyrics/nav/brownboy.html', 'https://www.azlyrics.com/lyrics/nav/takemesimple.html', 'https://www.azlyrics.com/lyrics/nav/sheknow.html', 'https://www.azlyrics.com/lyrics/nav/fellinlove.html', 'https://www.azlyrics.com/lyrics/nav/myself.html', 'https://www.azlyrics.com/lyrics/nav/onmyown.html', 'https://www.azlyrics.com/lyrics/nav/theman.html', 'https://www.azlyrics.com/lyrics/nav/over.html', 'https://www.azlyrics.com/lyrics/nav/tentoesdown.html', 'https://www.azlyrics.com/lyrics/nav/up.html', 'https://www.azlyrics.com/lyrics/nav/nothingonme.html', 'https://www.azlyrics.com/lyrics/belly/reup.html', 'https://www.azlyrics.com/lyrics/nav/myself.html', 'https://www.azlyrics.com/lyrics/nav/nav.html', 'https://www.azlyrics.com/lyrics/nav/mymind.html', 'https://www.azlyrics.com/lyrics/nav/goodforit.html', 'https://www.azlyrics.com/lyrics/nav/lonely.html', 'https://www.azlyrics.com/lyrics/nav/up.html', 'https://www.azlyrics.com/lyrics/nav/interlude.html', 'https://www.azlyrics.com/lyrics/nav/sleep.html', 'https://www.azlyrics.com/lyrics/nav/mariah.html', 'https://www.azlyrics.com/lyrics/nav/someway.html', 'https://www.azlyrics.com/lyrics/nav/tentoesdown.html', 'https://www.azlyrics.com/lyrics/nav/perfecttimingintro.html', 'https://www.azlyrics.com/lyrics/nav/idontcare.html', 'https://www.azlyrics.com/lyrics/nav/hit.html', 'https://www.azlyrics.com/lyrics/nav/aapferg.html', 'https://www.azlyrics.com/lyrics/nav/heldmedown.html', 'https://www.azlyrics.com/lyrics/nav/minute.html', 'https://www.azlyrics.com/lyrics/nav/didyouseenav.html', 'https://www.azlyrics.com/lyrics/nav/bringitback.html', 'https://www.azlyrics.com/lyrics/nav/bothsides.html', 'https://www.azlyrics.com/lyrics/nav/callme.html', 'https://www.azlyrics.com/lyrics/nav/youknow.html', 'https://www.azlyrics.com/lyrics/nav/rich.html', 'https://www.azlyrics.com/lyrics/nav/needsome.html', 'https://www.azlyrics.com/lyrics/nav/iam.html', 'https://www.azlyrics.com/lyrics/nav/navuzimetropt2.html', 'https://www.azlyrics.com/lyrics/nav/reckless.html', 'https://www.azlyrics.com/lyrics/nav/neverchange.html', 'https://www.azlyrics.com/lyrics/nav/holdyourhand.html', 'https://www.azlyrics.com/lyrics/nav/faith.html', 'https://www.azlyrics.com/lyrics/nav/champion.html', 'https://www.azlyrics.com/lyrics/nav/glowup.html', 'https://www.azlyrics.com/lyrics/nav/justhappened.html', 'https://www.azlyrics.com/lyrics/nav/wantedyou.html', 'https://www.azlyrics.com/lyrics/nav/withme.html', 'https://www.azlyrics.com/lyrics/nav/eat.html', 'https://www.azlyrics.com/lyrics/nav/freshmanlist.html', 'https://www.azlyrics.com/lyrics/nav/whatineed.html', 'https://www.azlyrics.com/lyrics/nav/threesome.html', 'https://www.azlyrics.com/lyrics/nav/backitup.html', 'https://www.azlyrics.com/lyrics/nav/ratchets.html', 'https://www.azlyrics.com/lyrics/nav/vvs.html', 'https://www.azlyrics.com/lyrics/nav/xofbg.html', 'https://www.azlyrics.com/lyrics/nav/tomygrave.html', 'https://www.azlyrics.com/lyrics/nav/imready.html', 'https://www.azlyrics.com/lyrics/nav/takingchances.html', 'https://www.azlyrics.com/lyrics/nav/tap.html', 'https://www.azlyrics.com/lyrics/nav/tension.html', 'https://www.azlyrics.com/lyrics/nav/priceonmyhead.html', 'https://www.azlyrics.com/lyrics/nav/ralo.html', 'https://www.azlyrics.com/lyrics/nav/tussin.html', 'https://www.azlyrics.com/lyrics/nav/snap.html', 'https://www.azlyrics.com/lyrics/nav/holdyourbreath.html', 'https://www.azlyrics.com/lyrics/nav/whyyoucryingmama.html', 'https://www.azlyrics.com/lyrics/nav/timepiece.html', 'https://www.azlyrics.com/lyrics/nav/diorrunners.html', 'https://www.azlyrics.com/lyrics/nav/vicodin.html', 'https://www.azlyrics.com/lyrics/nav/stuckwithme.html', 'https://www.azlyrics.com/lyrics/nav/knowme.html', 'https://www.azlyrics.com/lyrics/nav/amazing.html', 'https://www.azlyrics.com/lyrics/nav/habits.html', 'https://www.azlyrics.com/lyrics/nav/rackinmysleep.html', 'https://www.azlyrics.com/lyrics/nav/gotohell.html', 'https://www.azlyrics.com/lyrics/nav/8to4.html', 'https://www.azlyrics.com/lyrics/nav/neverknow.html', 'https://www.azlyrics.com/lyrics/nav/ok.html', 'https://www.azlyrics.com/lyrics/nav/athlete.html', 'https://www.azlyrics.com/lyrics/nav/goodintentionsintro.html', 'https://www.azlyrics.com/lyrics/nav/nodebate.html', 'https://www.azlyrics.com/lyrics/nav/mybusiness.html', 'https://www.azlyrics.com/lyrics/nav/turks.html', 'https://www.azlyrics.com/lyrics/nav/brownboyg.html', 'https://www.azlyrics.com/lyrics/nav/status.html', 'https://www.azlyrics.com/lyrics/nav/codeine.html', 'https://www.azlyrics.com/lyrics/nav/saintlaurenttt.html', 'https://www.azlyrics.com/lyrics/nav/coasttocoast.html', 'https://www.azlyrics.com/lyrics/nav/runitupgood.html', 'https://www.azlyrics.com/lyrics/nav/spendit.html', 'https://www.azlyrics.com/lyrics/nav/recap.html', 'https://www.azlyrics.com/lyrics/nav/shehurtin.html', 'https://www.azlyrics.com/lyrics/nav/overdose.html', 'https://www.azlyrics.com/lyrics/nav/didyouwrong.html', 'https://www.azlyrics.com/lyrics/nav/myspace.html', 'https://www.azlyrics.com/lyrics/nav/noice.html', 'https://www.azlyrics.com/lyrics/nav/proudofme.html', 'https://www.azlyrics.com/lyrics/nav/imup.html', 'https://www.azlyrics.com/lyrics/nav/relax.html', 'https://www.azlyrics.com/lyrics/nav/chirp.html', 'https://www.azlyrics.com/lyrics/nav/frequently.html', 'https://www.azlyrics.com/lyrics/nav/spriteclean.html', 'https://www.azlyrics.com/lyrics/nav/freesantana.html', 'https://www.azlyrics.com/lyrics/nav/heat.html', 'https://www.azlyrics.com/lyrics/nav/notime.html', 'https://www.azlyrics.com/lyrics/nav/yessir.html', 'https://www.azlyrics.com/lyrics/nav/pinesoul.html', 'https://www.azlyrics.com/lyrics/nav/twoface.html', 'https://www.azlyrics.com/lyrics/nav/extra.html', 'https://www.azlyrics.com/lyrics/nav/aintgoinback.html', 'https://www.azlyrics.com/lyrics/nav/bag.html', 'https://www.azlyrics.com/lyrics/nav/breakingnewsintro.html', 'https://www.azlyrics.com/lyrics/nav/friendsfamily.html', 'https://www.azlyrics.com/lyrics/nav/youngwheezy.html', 'https://www.azlyrics.com/lyrics/nav/nasty.html', 'https://www.azlyrics.com/lyrics/nav/repercussions.html', 'https://www.azlyrics.com/lyrics/nav/vetementsocks.html', 'https://www.azlyrics.com/lyrics/nav/dontneedfriends.html', 'https://www.azlyrics.com/lyrics/nav/makeitrightback.html', 'https://www.azlyrics.com/lyrics/nav/trains.html', 'https://www.azlyrics.com/lyrics/nav/doyadeed.html', 'https://www.azlyrics.com/lyrics/nav/droppintears.html', 'https://www.azlyrics.com/lyrics/nav/modest.html', 'https://www.azlyrics.com/lyrics/nav/turntwist.html', 'https://www.azlyrics.com/lyrics/nav/breakingnewsoutro.html', 'https://www.azlyrics.com/lyrics/nav/pickney.html', 'https://www.azlyrics.com/lyrics/nav/stellamccartney.html', 'https://www.azlyrics.com/lyrics/nav/countonmeintro.html', 'https://www.azlyrics.com/lyrics/nav/baby.html', 'https://www.azlyrics.com/lyrics/nav/deadshot.html', 'https://www.azlyrics.com/lyrics/nav/neversleep.html', 'https://www.azlyrics.com/lyrics/nav/lastofthemohicans.html', 'https://www.azlyrics.com/lyrics/nav/onetime.html', 'https://www.azlyrics.com/lyrics/nav/demonsinmycup.html', 'https://www.azlyrics.com/lyrics/nav/playa.html', 'https://www.azlyrics.com/lyrics/nav/weirdo.html', 'https://www.azlyrics.com/lyrics/nav/mydawg.html', 'https://www.azlyrics.com/lyrics/nav/dontcompare.html', 'https://www.azlyrics.com/lyrics/nav/interstellar.html', 'https://www.azlyrics.com/lyrics/nav/loaded.html', 'https://www.azlyrics.com/lyrics/nav/lostme.html', 'https://www.azlyrics.com/lyrics/nav/reset.html', 'https://www.azlyrics.com/lyrics/nav/mismatch.html', 'https://www.azlyrics.com/lyrics/nav/wrongdecisions.html', 'https://www.azlyrics.com/lyrics/nav/destiny.html', 'https://www.azlyrics.com/lyrics/nav/ballinpeaceoutro.html', 'https://www.azlyrics.com/lyrics/internetmoney/lemonade.html', 'https://www.azlyrics.com/lyrics/nav/addictedtothefastlife.html', 'https://www.azlyrics.com/lyrics/nav/baller.html', 'https://www.azlyrics.com/lyrics/nav/diamonds.html', 'https://www.azlyrics.com/lyrics/nav/doublefaces.html', 'https://www.azlyrics.com/lyrics/nav/fastlife.html', 'https://www.azlyrics.com/lyrics/frenchmontana/fenty.html', 'https://www.azlyrics.com/lyrics/nav/getgo.html', 'https://www.azlyrics.com/lyrics/nav/glowupremix.html', 'https://www.azlyrics.com/lyrics/nav/lately.html', 'https://www.azlyrics.com/lyrics/nav/leavemealone.html', 'https://www.azlyrics.com/lyrics/nav/meandmybitch.html', 'https://www.azlyrics.com/lyrics/nav/onmymind.html', 'https://www.azlyrics.com/lyrics/ji/painless2.html', 'https://www.azlyrics.com/lyrics/nav/pinesol.html', 'https://www.azlyrics.com/lyrics/nav/runitup.html', 'https://www.azlyrics.com/lyrics/nav/wolves.html']})\n"
     ]
    }
   ],
   "source": [
    "# Let's set up a dictionary of lists to hold our links\n",
    "lyrics_pages = defaultdict(list)\n",
    "\n",
    "for artist, artist_page in artists.items():\n",
    "    try:\n",
    "        # Request the artist page\n",
    "        response = requests.get(artist_page)\n",
    "        # Pause the execution for a short, random period of time\n",
    "        time.sleep(5 + 10*random.random())\n",
    "        \n",
    "        # THE FOLLOWING CODE IN THIS BLOCK WAS PRODCUED WITH HELP FROM CHATGPT4\n",
    "        # Check if the request was successful\n",
    "        if response.status_code == 200:\n",
    "            # Parse the HTML content\n",
    "            soup = BeautifulSoup(response.text, 'html.parser')\n",
    "            # Find all links within 'div' elements having class 'listalbum-item'\n",
    "            links = soup.find_all('div', class_='listalbum-item')\n",
    "            # Extract 'href' attributes from each link and store them\n",
    "            for link in links:\n",
    "                url = link.find('a').get('href')\n",
    "                full_url = f'https://www.azlyrics.com{url}' if url.startswith('/') else url\n",
    "                lyrics_pages[artist].append(full_url)\n",
    "        else:\n",
    "            print(f\"Failed to retrieve page for {artist} with status code {response.status_code}\")\n",
    "    except Exception as e:\n",
    "        print(f\"An error occurred while processing {artist}: {e}\")\n",
    "\n",
    "# Output the dictionary to see which URLs were added\n",
    "print(lyrics_pages)"
   ]
  },
  {
   "cell_type": "code",
   "execution_count": 10,
   "id": "c1b10da2",
   "metadata": {},
   "outputs": [
    {
     "data": {
      "text/plain": [
       "defaultdict(list,\n",
       "            {'chappell': ['https://www.azlyrics.com/lyrics/chappellroan/dieyoung.html',\n",
       "              'https://www.azlyrics.com/lyrics/chappellroan/goodhurt.html',\n",
       "              'https://www.azlyrics.com/lyrics/chappellroan/meantime.html',\n",
       "              'https://www.azlyrics.com/lyrics/chappellroan/sugarhigh.html',\n",
       "              'https://www.azlyrics.com/lyrics/chappellroan/badforyou.html',\n",
       "              'https://www.azlyrics.com/lyrics/chappellroan/femininomenon.html',\n",
       "              'https://www.azlyrics.com/lyrics/chappellroan/redwinesupernova.html',\n",
       "              'https://www.azlyrics.com/lyrics/chappellroan/aftermidnight.html',\n",
       "              'https://www.azlyrics.com/lyrics/chappellroan/coffee.html',\n",
       "              'https://www.azlyrics.com/lyrics/chappellroan/casual.html',\n",
       "              'https://www.azlyrics.com/lyrics/chappellroan/supergraphicultramoderngirl.html',\n",
       "              'https://www.azlyrics.com/lyrics/chappellroan/hottogo.html',\n",
       "              'https://www.azlyrics.com/lyrics/chappellroan/mykinkiskarma.html',\n",
       "              'https://www.azlyrics.com/lyrics/chappellroan/pictureyou.html',\n",
       "              'https://www.azlyrics.com/lyrics/chappellroan/kaleidoscope.html',\n",
       "              'https://www.azlyrics.com/lyrics/chappellroan/pinkponyclub.html',\n",
       "              'https://www.azlyrics.com/lyrics/chappellroan/nakedinmanhattan.html',\n",
       "              'https://www.azlyrics.com/lyrics/chappellroan/california.html',\n",
       "              'https://www.azlyrics.com/lyrics/chappellroan/guiltypleasure.html',\n",
       "              'https://www.azlyrics.com/lyrics/chappellroan/bitter.html',\n",
       "              'https://www.azlyrics.com/lyrics/chappellroan/craveyou.html',\n",
       "              'https://www.azlyrics.com/lyrics/chappellroan/goodluckbabe.html',\n",
       "              'https://www.azlyrics.com/lyrics/chappellroan/lovemeanyway.html',\n",
       "              'https://www.azlyrics.com/lyrics/chappellroan/schoolnights.html'],\n",
       "             'nav': ['https://www.azlyrics.com/lyrics/nav/nothinonyou.html',\n",
       "              'https://www.azlyrics.com/lyrics/nav/makeyourmindup.html',\n",
       "              'https://www.azlyrics.com/lyrics/nav/mission.html',\n",
       "              'https://www.azlyrics.com/lyrics/nav/brownboy.html',\n",
       "              'https://www.azlyrics.com/lyrics/nav/takemesimple.html',\n",
       "              'https://www.azlyrics.com/lyrics/nav/sheknow.html',\n",
       "              'https://www.azlyrics.com/lyrics/nav/fellinlove.html',\n",
       "              'https://www.azlyrics.com/lyrics/nav/myself.html',\n",
       "              'https://www.azlyrics.com/lyrics/nav/onmyown.html',\n",
       "              'https://www.azlyrics.com/lyrics/nav/theman.html',\n",
       "              'https://www.azlyrics.com/lyrics/nav/over.html',\n",
       "              'https://www.azlyrics.com/lyrics/nav/tentoesdown.html',\n",
       "              'https://www.azlyrics.com/lyrics/nav/up.html',\n",
       "              'https://www.azlyrics.com/lyrics/nav/nothingonme.html',\n",
       "              'https://www.azlyrics.com/lyrics/belly/reup.html',\n",
       "              'https://www.azlyrics.com/lyrics/nav/myself.html',\n",
       "              'https://www.azlyrics.com/lyrics/nav/nav.html',\n",
       "              'https://www.azlyrics.com/lyrics/nav/mymind.html',\n",
       "              'https://www.azlyrics.com/lyrics/nav/goodforit.html',\n",
       "              'https://www.azlyrics.com/lyrics/nav/lonely.html',\n",
       "              'https://www.azlyrics.com/lyrics/nav/up.html',\n",
       "              'https://www.azlyrics.com/lyrics/nav/interlude.html',\n",
       "              'https://www.azlyrics.com/lyrics/nav/sleep.html',\n",
       "              'https://www.azlyrics.com/lyrics/nav/mariah.html',\n",
       "              'https://www.azlyrics.com/lyrics/nav/someway.html',\n",
       "              'https://www.azlyrics.com/lyrics/nav/tentoesdown.html',\n",
       "              'https://www.azlyrics.com/lyrics/nav/perfecttimingintro.html',\n",
       "              'https://www.azlyrics.com/lyrics/nav/idontcare.html',\n",
       "              'https://www.azlyrics.com/lyrics/nav/hit.html',\n",
       "              'https://www.azlyrics.com/lyrics/nav/aapferg.html',\n",
       "              'https://www.azlyrics.com/lyrics/nav/heldmedown.html',\n",
       "              'https://www.azlyrics.com/lyrics/nav/minute.html',\n",
       "              'https://www.azlyrics.com/lyrics/nav/didyouseenav.html',\n",
       "              'https://www.azlyrics.com/lyrics/nav/bringitback.html',\n",
       "              'https://www.azlyrics.com/lyrics/nav/bothsides.html',\n",
       "              'https://www.azlyrics.com/lyrics/nav/callme.html',\n",
       "              'https://www.azlyrics.com/lyrics/nav/youknow.html',\n",
       "              'https://www.azlyrics.com/lyrics/nav/rich.html',\n",
       "              'https://www.azlyrics.com/lyrics/nav/needsome.html',\n",
       "              'https://www.azlyrics.com/lyrics/nav/iam.html',\n",
       "              'https://www.azlyrics.com/lyrics/nav/navuzimetropt2.html',\n",
       "              'https://www.azlyrics.com/lyrics/nav/reckless.html',\n",
       "              'https://www.azlyrics.com/lyrics/nav/neverchange.html',\n",
       "              'https://www.azlyrics.com/lyrics/nav/holdyourhand.html',\n",
       "              'https://www.azlyrics.com/lyrics/nav/faith.html',\n",
       "              'https://www.azlyrics.com/lyrics/nav/champion.html',\n",
       "              'https://www.azlyrics.com/lyrics/nav/glowup.html',\n",
       "              'https://www.azlyrics.com/lyrics/nav/justhappened.html',\n",
       "              'https://www.azlyrics.com/lyrics/nav/wantedyou.html',\n",
       "              'https://www.azlyrics.com/lyrics/nav/withme.html',\n",
       "              'https://www.azlyrics.com/lyrics/nav/eat.html',\n",
       "              'https://www.azlyrics.com/lyrics/nav/freshmanlist.html',\n",
       "              'https://www.azlyrics.com/lyrics/nav/whatineed.html',\n",
       "              'https://www.azlyrics.com/lyrics/nav/threesome.html',\n",
       "              'https://www.azlyrics.com/lyrics/nav/backitup.html',\n",
       "              'https://www.azlyrics.com/lyrics/nav/ratchets.html',\n",
       "              'https://www.azlyrics.com/lyrics/nav/vvs.html',\n",
       "              'https://www.azlyrics.com/lyrics/nav/xofbg.html',\n",
       "              'https://www.azlyrics.com/lyrics/nav/tomygrave.html',\n",
       "              'https://www.azlyrics.com/lyrics/nav/imready.html',\n",
       "              'https://www.azlyrics.com/lyrics/nav/takingchances.html',\n",
       "              'https://www.azlyrics.com/lyrics/nav/tap.html',\n",
       "              'https://www.azlyrics.com/lyrics/nav/tension.html',\n",
       "              'https://www.azlyrics.com/lyrics/nav/priceonmyhead.html',\n",
       "              'https://www.azlyrics.com/lyrics/nav/ralo.html',\n",
       "              'https://www.azlyrics.com/lyrics/nav/tussin.html',\n",
       "              'https://www.azlyrics.com/lyrics/nav/snap.html',\n",
       "              'https://www.azlyrics.com/lyrics/nav/holdyourbreath.html',\n",
       "              'https://www.azlyrics.com/lyrics/nav/whyyoucryingmama.html',\n",
       "              'https://www.azlyrics.com/lyrics/nav/timepiece.html',\n",
       "              'https://www.azlyrics.com/lyrics/nav/diorrunners.html',\n",
       "              'https://www.azlyrics.com/lyrics/nav/vicodin.html',\n",
       "              'https://www.azlyrics.com/lyrics/nav/stuckwithme.html',\n",
       "              'https://www.azlyrics.com/lyrics/nav/knowme.html',\n",
       "              'https://www.azlyrics.com/lyrics/nav/amazing.html',\n",
       "              'https://www.azlyrics.com/lyrics/nav/habits.html',\n",
       "              'https://www.azlyrics.com/lyrics/nav/rackinmysleep.html',\n",
       "              'https://www.azlyrics.com/lyrics/nav/gotohell.html',\n",
       "              'https://www.azlyrics.com/lyrics/nav/8to4.html',\n",
       "              'https://www.azlyrics.com/lyrics/nav/neverknow.html',\n",
       "              'https://www.azlyrics.com/lyrics/nav/ok.html',\n",
       "              'https://www.azlyrics.com/lyrics/nav/athlete.html',\n",
       "              'https://www.azlyrics.com/lyrics/nav/goodintentionsintro.html',\n",
       "              'https://www.azlyrics.com/lyrics/nav/nodebate.html',\n",
       "              'https://www.azlyrics.com/lyrics/nav/mybusiness.html',\n",
       "              'https://www.azlyrics.com/lyrics/nav/turks.html',\n",
       "              'https://www.azlyrics.com/lyrics/nav/brownboyg.html',\n",
       "              'https://www.azlyrics.com/lyrics/nav/status.html',\n",
       "              'https://www.azlyrics.com/lyrics/nav/codeine.html',\n",
       "              'https://www.azlyrics.com/lyrics/nav/saintlaurenttt.html',\n",
       "              'https://www.azlyrics.com/lyrics/nav/coasttocoast.html',\n",
       "              'https://www.azlyrics.com/lyrics/nav/runitupgood.html',\n",
       "              'https://www.azlyrics.com/lyrics/nav/spendit.html',\n",
       "              'https://www.azlyrics.com/lyrics/nav/recap.html',\n",
       "              'https://www.azlyrics.com/lyrics/nav/shehurtin.html',\n",
       "              'https://www.azlyrics.com/lyrics/nav/overdose.html',\n",
       "              'https://www.azlyrics.com/lyrics/nav/didyouwrong.html',\n",
       "              'https://www.azlyrics.com/lyrics/nav/myspace.html',\n",
       "              'https://www.azlyrics.com/lyrics/nav/noice.html',\n",
       "              'https://www.azlyrics.com/lyrics/nav/proudofme.html',\n",
       "              'https://www.azlyrics.com/lyrics/nav/imup.html',\n",
       "              'https://www.azlyrics.com/lyrics/nav/relax.html',\n",
       "              'https://www.azlyrics.com/lyrics/nav/chirp.html',\n",
       "              'https://www.azlyrics.com/lyrics/nav/frequently.html',\n",
       "              'https://www.azlyrics.com/lyrics/nav/spriteclean.html',\n",
       "              'https://www.azlyrics.com/lyrics/nav/freesantana.html',\n",
       "              'https://www.azlyrics.com/lyrics/nav/heat.html',\n",
       "              'https://www.azlyrics.com/lyrics/nav/notime.html',\n",
       "              'https://www.azlyrics.com/lyrics/nav/yessir.html',\n",
       "              'https://www.azlyrics.com/lyrics/nav/pinesoul.html',\n",
       "              'https://www.azlyrics.com/lyrics/nav/twoface.html',\n",
       "              'https://www.azlyrics.com/lyrics/nav/extra.html',\n",
       "              'https://www.azlyrics.com/lyrics/nav/aintgoinback.html',\n",
       "              'https://www.azlyrics.com/lyrics/nav/bag.html',\n",
       "              'https://www.azlyrics.com/lyrics/nav/breakingnewsintro.html',\n",
       "              'https://www.azlyrics.com/lyrics/nav/friendsfamily.html',\n",
       "              'https://www.azlyrics.com/lyrics/nav/youngwheezy.html',\n",
       "              'https://www.azlyrics.com/lyrics/nav/nasty.html',\n",
       "              'https://www.azlyrics.com/lyrics/nav/repercussions.html',\n",
       "              'https://www.azlyrics.com/lyrics/nav/vetementsocks.html',\n",
       "              'https://www.azlyrics.com/lyrics/nav/dontneedfriends.html',\n",
       "              'https://www.azlyrics.com/lyrics/nav/makeitrightback.html',\n",
       "              'https://www.azlyrics.com/lyrics/nav/trains.html',\n",
       "              'https://www.azlyrics.com/lyrics/nav/doyadeed.html',\n",
       "              'https://www.azlyrics.com/lyrics/nav/droppintears.html',\n",
       "              'https://www.azlyrics.com/lyrics/nav/modest.html',\n",
       "              'https://www.azlyrics.com/lyrics/nav/turntwist.html',\n",
       "              'https://www.azlyrics.com/lyrics/nav/breakingnewsoutro.html',\n",
       "              'https://www.azlyrics.com/lyrics/nav/pickney.html',\n",
       "              'https://www.azlyrics.com/lyrics/nav/stellamccartney.html',\n",
       "              'https://www.azlyrics.com/lyrics/nav/countonmeintro.html',\n",
       "              'https://www.azlyrics.com/lyrics/nav/baby.html',\n",
       "              'https://www.azlyrics.com/lyrics/nav/deadshot.html',\n",
       "              'https://www.azlyrics.com/lyrics/nav/neversleep.html',\n",
       "              'https://www.azlyrics.com/lyrics/nav/lastofthemohicans.html',\n",
       "              'https://www.azlyrics.com/lyrics/nav/onetime.html',\n",
       "              'https://www.azlyrics.com/lyrics/nav/demonsinmycup.html',\n",
       "              'https://www.azlyrics.com/lyrics/nav/playa.html',\n",
       "              'https://www.azlyrics.com/lyrics/nav/weirdo.html',\n",
       "              'https://www.azlyrics.com/lyrics/nav/mydawg.html',\n",
       "              'https://www.azlyrics.com/lyrics/nav/dontcompare.html',\n",
       "              'https://www.azlyrics.com/lyrics/nav/interstellar.html',\n",
       "              'https://www.azlyrics.com/lyrics/nav/loaded.html',\n",
       "              'https://www.azlyrics.com/lyrics/nav/lostme.html',\n",
       "              'https://www.azlyrics.com/lyrics/nav/reset.html',\n",
       "              'https://www.azlyrics.com/lyrics/nav/mismatch.html',\n",
       "              'https://www.azlyrics.com/lyrics/nav/wrongdecisions.html',\n",
       "              'https://www.azlyrics.com/lyrics/nav/destiny.html',\n",
       "              'https://www.azlyrics.com/lyrics/nav/ballinpeaceoutro.html',\n",
       "              'https://www.azlyrics.com/lyrics/internetmoney/lemonade.html',\n",
       "              'https://www.azlyrics.com/lyrics/nav/addictedtothefastlife.html',\n",
       "              'https://www.azlyrics.com/lyrics/nav/baller.html',\n",
       "              'https://www.azlyrics.com/lyrics/nav/diamonds.html',\n",
       "              'https://www.azlyrics.com/lyrics/nav/doublefaces.html',\n",
       "              'https://www.azlyrics.com/lyrics/nav/fastlife.html',\n",
       "              'https://www.azlyrics.com/lyrics/frenchmontana/fenty.html',\n",
       "              'https://www.azlyrics.com/lyrics/nav/getgo.html',\n",
       "              'https://www.azlyrics.com/lyrics/nav/glowupremix.html',\n",
       "              'https://www.azlyrics.com/lyrics/nav/lately.html',\n",
       "              'https://www.azlyrics.com/lyrics/nav/leavemealone.html',\n",
       "              'https://www.azlyrics.com/lyrics/nav/meandmybitch.html',\n",
       "              'https://www.azlyrics.com/lyrics/nav/onmymind.html',\n",
       "              'https://www.azlyrics.com/lyrics/ji/painless2.html',\n",
       "              'https://www.azlyrics.com/lyrics/nav/pinesol.html',\n",
       "              'https://www.azlyrics.com/lyrics/nav/runitup.html',\n",
       "              'https://www.azlyrics.com/lyrics/nav/wolves.html']})"
      ]
     },
     "execution_count": 10,
     "metadata": {},
     "output_type": "execute_result"
    }
   ],
   "source": [
    "# Look at lyric pages dictionary in a more organized way\n",
    "lyrics_pages"
   ]
  },
  {
   "cell_type": "markdown",
   "id": "9c285ec1",
   "metadata": {},
   "source": [
    "Let's make sure we have enough lyrics pages to scrape. "
   ]
  },
  {
   "cell_type": "code",
   "execution_count": 11,
   "id": "ae4cda68",
   "metadata": {},
   "outputs": [],
   "source": [
    "for artist, lp in lyrics_pages.items() :\n",
    "    assert(len(set(lp)) > 20) "
   ]
  },
  {
   "cell_type": "code",
   "execution_count": 12,
   "id": "edca10d6",
   "metadata": {},
   "outputs": [
    {
     "name": "stdout",
     "output_type": "stream",
     "text": [
      "For chappell we have 24.\n",
      "The full pull will take for this artist will take 0.07 hours.\n",
      "For nav we have 166.\n",
      "The full pull will take for this artist will take 0.46 hours.\n"
     ]
    }
   ],
   "source": [
    "# Let's see how long it's going to take to pull these lyrics \n",
    "# if we're waiting `5 + 10*random.random()` seconds \n",
    "for artist, links in lyrics_pages.items() : \n",
    "    print(f\"For {artist} we have {len(links)}.\")\n",
    "    print(f\"The full pull will take for this artist will take {round(len(links)*10/3600,2)} hours.\")"
   ]
  },
  {
   "cell_type": "markdown",
   "id": "011be6c6",
   "metadata": {},
   "source": [
    "## Part 2: Pulling Lyrics"
   ]
  },
  {
   "cell_type": "code",
   "execution_count": 13,
   "id": "67693711",
   "metadata": {},
   "outputs": [],
   "source": [
    "# Create a function to produce file names in the repo directory\n",
    "\n",
    "def generate_filename_from_link(link) :\n",
    "    \n",
    "    if not link :\n",
    "        return None\n",
    "    \n",
    "    # drop the http or https and the html\n",
    "    name = link.replace(\"https://www.azlyrics.com\", \"\").replace(\"http\",\"\")\n",
    "    name = link.replace(\".html\",\"\")\n",
    "\n",
    "    # drop the lyrics folder designation\n",
    "    name = name.replace(\"/lyrics/\",\"\")\n",
    "    \n",
    "    # Replace useless chareacters with UNDERSCORE\n",
    "    name = name.replace(\"://\",\"\").replace(\".\",\"_\").replace(\"/\",\"_\")\n",
    "    \n",
    "    # tack on .txt\n",
    "    name = name + \".txt\"\n",
    "    \n",
    "    return(name)  # Only left with artist name and song name plus .txt"
   ]
  },
  {
   "cell_type": "code",
   "execution_count": 16,
   "id": "94a78c78",
   "metadata": {},
   "outputs": [],
   "source": [
    "# Make the lyrics folder here with functionality that checks to see if the folder exists. \n",
    "# If it does, then use shutil.rmtree to remove it and create a new one.\n",
    "if os.path.isdir(\"lyrics\") : \n",
    "    shutil.rmtree(\"lyrics/\")\n",
    "\n",
    "os.mkdir(\"lyrics\")"
   ]
  },
  {
   "cell_type": "code",
   "execution_count": 21,
   "id": "373b4f1a",
   "metadata": {},
   "outputs": [
    {
     "name": "stdout",
     "output_type": "stream",
     "text": [
      "Processed 48 pages in 0.14 hours.\n"
     ]
    }
   ],
   "source": [
    "# Commented out the stub because the links provide full URL already\n",
    "# url_stub = \"https://www.azlyrics.com\" \n",
    "start = time.time()\n",
    "\n",
    "total_pages = 0 \n",
    "\n",
    "\n",
    "# THE FOLLOWING CODE IN THIS BLOCK WAS PRODCUED WITH HELP FROM CHATGPT4\n",
    "# Iterate over artist/song url dictionary\n",
    "for artist, urls in lyrics_pages.items():\n",
    "    artist_dir = os.path.join(\"lyrics\", artist.replace(\" \", \"_\").lower())\n",
    "    if not os.path.exists(artist_dir):\n",
    "        os.makedirs(artist_dir)  # Check if artist file path exists, if not, add new file path folder for each artist\n",
    "\n",
    "    for link in urls[:24]:  # Ensure only the first 24 song links are processed\n",
    "        full_url = link  # Links from dictionary\n",
    "        try:\n",
    "            response = requests.get(full_url)\n",
    "            time.sleep(5 + 10 * random.random())  # Randomized sleep to prevent being blocked\n",
    "            \n",
    "            soup = BeautifulSoup(response.text, 'html.parser')  # Parse out html content\n",
    "            \n",
    "            # Extract the title from the <div class=\"div-share\"><h1>\"Song Name\" lyrics</h1></div>\n",
    "            # These tags can be identified using inspection on web page\n",
    "            title_tag = soup.find('div', class_='div-share')\n",
    "            title = title_tag.h1.text.replace(' lyrics', '') if title_tag and title_tag.h1 else 'No Title'\n",
    "            \n",
    "            # Extract lyrics from the div directly containing the lyrics text\n",
    "            lyrics_div = soup.find('div', class_=False, id=False)  # Assuming the lyrics div has no class or id\n",
    "            lyrics = lyrics_div.get_text('\\n', strip=True) if lyrics_div else 'No Lyrics'\n",
    "            \n",
    "            # Generate output files with artist song name and lyric content\n",
    "            filename = generate_filename_from_link(link)\n",
    "            with open(os.path.join(artist_dir, filename), 'w', encoding='utf-8') as file:\n",
    "                file.write(f\"{title}\\n\\n{lyrics}\")\n",
    "            \n",
    "            total_pages += 1\n",
    "\n",
    "        except requests.RequestException as e:\n",
    "            print(f\"Failed to retrieve page {full_url}: {e}\")  # Error warning if not successful\n",
    "\n",
    "# Track computation time in hours\n",
    "end = time.time()            \n",
    "hours_elapsed = (end - start) / 3600  # Converting seconds to hours\n",
    "print(f\"Processed {total_pages} pages in {hours_elapsed:.2f} hours.\")"
   ]
  },
  {
   "cell_type": "markdown",
   "id": "054cf14b",
   "metadata": {},
   "source": [
    "---\n",
    "\n",
    "# Evaluation\n",
    "\n",
    "This assignment asks you to pull data by scraping www.AZLyrics.com.  After you have finished the above sections , run all the cells in this notebook. Print this to PDF and submit it, per the instructions."
   ]
  },
  {
   "cell_type": "code",
   "execution_count": 19,
   "id": "217c2b0a",
   "metadata": {},
   "outputs": [],
   "source": [
    "# Simple word extractor from Peter Norvig: https://norvig.com/spell-correct.html\n",
    "def words(text): \n",
    "    return re.findall(r'\\w+', text.lower())"
   ]
  },
  {
   "cell_type": "markdown",
   "id": "37778a1c",
   "metadata": {},
   "source": [
    "## Checking Lyrics \n",
    "\n",
    "The output from your lyrics scrape should be stored in files located in this path from the directory:\n",
    "`/lyrics/[Artist Name]/[filename from URL]`. This code summarizes the information at a high level to help the instructor evaluate your work. "
   ]
  },
  {
   "cell_type": "code",
   "execution_count": 22,
   "id": "bccac29c",
   "metadata": {},
   "outputs": [
    {
     "name": "stdout",
     "output_type": "stream",
     "text": [
      "For chappell we have 24 files.\n",
      "For chappell we have roughly 8185 words, 1026 are unique.\n",
      "For nav we have 22 files.\n",
      "For nav we have roughly 10984 words, 1216 are unique.\n"
     ]
    }
   ],
   "source": [
    "artist_folders = os.listdir(\"lyrics/\")\n",
    "artist_folders = [f for f in artist_folders if os.path.isdir(\"lyrics/\" + f)]\n",
    "\n",
    "for artist in artist_folders : \n",
    "    artist_files = os.listdir(\"lyrics/\" + artist)\n",
    "    artist_files = [f for f in artist_files if 'txt' in f or 'csv' in f or 'tsv' in f]\n",
    "\n",
    "    print(f\"For {artist} we have {len(artist_files)} files.\")\n",
    "\n",
    "    artist_words = []\n",
    "\n",
    "    for f_name in artist_files : \n",
    "        with open(\"lyrics/\" + artist + \"/\" + f_name) as infile : \n",
    "            artist_words.extend(words(infile.read()))\n",
    "\n",
    "            \n",
    "    print(f\"For {artist} we have roughly {len(artist_words)} words, {len(set(artist_words))} are unique.\")\n"
   ]
  },
  {
   "cell_type": "code",
   "execution_count": null,
   "id": "3b164fdc",
   "metadata": {},
   "outputs": [],
   "source": []
  }
 ],
 "metadata": {
  "kernelspec": {
   "display_name": "Python 3 (ipykernel)",
   "language": "python",
   "name": "python3"
  },
  "language_info": {
   "codemirror_mode": {
    "name": "ipython",
    "version": 3
   },
   "file_extension": ".py",
   "mimetype": "text/x-python",
   "name": "python",
   "nbconvert_exporter": "python",
   "pygments_lexer": "ipython3",
   "version": "3.9.18"
  }
 },
 "nbformat": 4,
 "nbformat_minor": 5
}
